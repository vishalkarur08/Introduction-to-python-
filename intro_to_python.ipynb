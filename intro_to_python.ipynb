{
  "nbformat": 4,
  "nbformat_minor": 0,
  "metadata": {
    "colab": {
      "provenance": [],
      "authorship_tag": "ABX9TyOKyc5hfsOzsmjJKIXI14J+",
      "include_colab_link": true
    },
    "kernelspec": {
      "name": "python3",
      "display_name": "Python 3"
    },
    "language_info": {
      "name": "python"
    }
  },
  "cells": [
    {
      "cell_type": "markdown",
      "metadata": {
        "id": "view-in-github",
        "colab_type": "text"
      },
      "source": [
        "<a href=\"https://colab.research.google.com/github/vishalkarur08/Introduction-to-python-/blob/main/intro_to_python.ipynb\" target=\"_parent\"><img src=\"https://colab.research.google.com/assets/colab-badge.svg\" alt=\"Open In Colab\"/></a>"
      ]
    },
    {
      "cell_type": "markdown",
      "source": [
        "Conditional Statements"
      ],
      "metadata": {
        "id": "3MZwn8LqUI3A"
      }
    },
    {
      "cell_type": "code",
      "execution_count": 3,
      "metadata": {
        "colab": {
          "base_uri": "https://localhost:8080/"
        },
        "id": "oR7o2rCUM8Na",
        "outputId": "b9da72db-2577-47ef-95be-b4c60b5aa370"
      },
      "outputs": [
        {
          "output_type": "stream",
          "name": "stdout",
          "text": [
            "x < y\n"
          ]
        }
      ],
      "source": [
        "x = 10\n",
        "y = 12\n",
        "# if x is greater than y\n",
        "if x > y:\n",
        "  print (\"x > y\")\n",
        "# if x is lesser than y\n",
        "elif x < y:\n",
        "  print (\"x < y\")\n",
        "else:\n",
        "  print (\"x = y\")"
      ]
    },
    {
      "cell_type": "code",
      "source": [
        "numbers = range(1, 6)\n"
      ],
      "metadata": {
        "id": "VSkM004ANgDi"
      },
      "execution_count": 4,
      "outputs": []
    },
    {
      "cell_type": "code",
      "source": [
        "numbers"
      ],
      "metadata": {
        "colab": {
          "base_uri": "https://localhost:8080/"
        },
        "id": "neBNB5ccPEVm",
        "outputId": "cb374d67-5348-4c14-d3af-87a42aaedb71"
      },
      "execution_count": 5,
      "outputs": [
        {
          "output_type": "execute_result",
          "data": {
            "text/plain": [
              "range(1, 6)"
            ]
          },
          "metadata": {},
          "execution_count": 5
        }
      ]
    },
    {
      "cell_type": "code",
      "source": [
        "for i in numbers:\n",
        "  print(i)"
      ],
      "metadata": {
        "colab": {
          "base_uri": "https://localhost:8080/"
        },
        "id": "oSq0amZhPGH5",
        "outputId": "2f523497-c73a-4b28-9577-2dfe37009b7b"
      },
      "execution_count": 6,
      "outputs": [
        {
          "output_type": "stream",
          "name": "stdout",
          "text": [
            "1\n",
            "2\n",
            "3\n",
            "4\n",
            "5\n"
          ]
        }
      ]
    },
    {
      "cell_type": "code",
      "source": [
        "# Initialize the value of 1\n",
        "i = 1\n",
        "# check the value of i to check if the loop will be continued or not\n",
        "while i < 5:\n",
        "  print(i)\n",
        "# Increment the value of i.\n",
        "  i = i+1\n",
        "# print after the value of i\n",
        "print(\"Done\")"
      ],
      "metadata": {
        "colab": {
          "base_uri": "https://localhost:8080/"
        },
        "id": "rvnfLREdPg78",
        "outputId": "2306fead-3169-464b-d0ea-9346d4d17939"
      },
      "execution_count": 8,
      "outputs": [
        {
          "output_type": "stream",
          "name": "stdout",
          "text": [
            "1\n",
            "2\n",
            "3\n",
            "4\n",
            "Done\n"
          ]
        }
      ]
    },
    {
      "cell_type": "markdown",
      "source": [
        "FUNCTIONS"
      ],
      "metadata": {
        "id": "SMOnYByrT2di"
      }
    },
    {
      "cell_type": "code",
      "source": [
        "def addelements(a,b):\n",
        "  return(a+b)"
      ],
      "metadata": {
        "id": "Xmp9KY5TQj2k"
      },
      "execution_count": 10,
      "outputs": []
    },
    {
      "cell_type": "code",
      "source": [
        "result = addelements(3,5)"
      ],
      "metadata": {
        "id": "TKhCWOxxRgLT"
      },
      "execution_count": 11,
      "outputs": []
    },
    {
      "cell_type": "code",
      "source": [
        "result"
      ],
      "metadata": {
        "colab": {
          "base_uri": "https://localhost:8080/"
        },
        "id": "3RDvTZd7SJxX",
        "outputId": "88d44584-ca66-4d51-a9e6-95e56fd66b52"
      },
      "execution_count": 12,
      "outputs": [
        {
          "output_type": "execute_result",
          "data": {
            "text/plain": [
              "8"
            ]
          },
          "metadata": {},
          "execution_count": 12
        }
      ]
    },
    {
      "cell_type": "code",
      "source": [
        "addelements(8.09,3.45)\n"
      ],
      "metadata": {
        "colab": {
          "base_uri": "https://localhost:8080/"
        },
        "id": "vZrVZ4lwSZn_",
        "outputId": "47fe0c3e-20e6-4a68-82b7-cedcdd7f183a"
      },
      "execution_count": 13,
      "outputs": [
        {
          "output_type": "execute_result",
          "data": {
            "text/plain": [
              "11.54"
            ]
          },
          "metadata": {},
          "execution_count": 13
        }
      ]
    },
    {
      "cell_type": "code",
      "source": [
        "addelements(\"hello\",\"world\")"
      ],
      "metadata": {
        "colab": {
          "base_uri": "https://localhost:8080/",
          "height": 36
        },
        "id": "a6q0e8y-Sp31",
        "outputId": "e5ddaef8-82b7-48d9-c1ce-f8a805865b93"
      },
      "execution_count": 14,
      "outputs": [
        {
          "output_type": "execute_result",
          "data": {
            "text/plain": [
              "'helloworld'"
            ],
            "application/vnd.google.colaboratory.intrinsic+json": {
              "type": "string"
            }
          },
          "metadata": {},
          "execution_count": 14
        }
      ]
    },
    {
      "cell_type": "markdown",
      "source": [
        "working with collections (LIST, TUPLES, SET, DICTIONARY)"
      ],
      "metadata": {
        "id": "1b7q-OlyTwVC"
      }
    },
    {
      "cell_type": "code",
      "source": [
        "batsmen = ['Rohit', 'Dhawan', 'Kohli', 'Rahane', 'Rayudu', 'Dhoni']\n",
        "batsmen[0]"
      ],
      "metadata": {
        "colab": {
          "base_uri": "https://localhost:8080/",
          "height": 36
        },
        "id": "LowZfMKWSuMj",
        "outputId": "52daafb9-91bc-4246-d6f7-9e0b6b305bc0"
      },
      "execution_count": 15,
      "outputs": [
        {
          "output_type": "execute_result",
          "data": {
            "text/plain": [
              "'Rohit'"
            ],
            "application/vnd.google.colaboratory.intrinsic+json": {
              "type": "string"
            }
          },
          "metadata": {},
          "execution_count": 15
        }
      ]
    },
    {
      "cell_type": "code",
      "source": [
        "type(batsmen)"
      ],
      "metadata": {
        "colab": {
          "base_uri": "https://localhost:8080/"
        },
        "id": "GB2r4iDBTpx-",
        "outputId": "ab9b28fa-d5a2-40d7-988f-5fca3fcef9fb"
      },
      "execution_count": 16,
      "outputs": [
        {
          "output_type": "execute_result",
          "data": {
            "text/plain": [
              "list"
            ]
          },
          "metadata": {},
          "execution_count": 16
        }
      ]
    },
    {
      "cell_type": "code",
      "source": [
        "## Slicing a list\n",
        "batsmen[0:2]"
      ],
      "metadata": {
        "colab": {
          "base_uri": "https://localhost:8080/"
        },
        "id": "cCedlrmQUUAf",
        "outputId": "d22e7c36-aa1c-470b-aa16-ee6ef33f8d96"
      },
      "execution_count": 18,
      "outputs": [
        {
          "output_type": "execute_result",
          "data": {
            "text/plain": [
              "['Rohit', 'Dhawan']"
            ]
          },
          "metadata": {},
          "execution_count": 18
        }
      ]
    },
    {
      "cell_type": "code",
      "source": [
        "bowlers = ['Bumrah', 'Sham', 'Bhuvi', 'Kuldeep', 'Chahal']\n",
        "all_players = batsmen + bowlers\n",
        "all_players"
      ],
      "metadata": {
        "colab": {
          "base_uri": "https://localhost:8080/"
        },
        "id": "FMcQ7JQgUelQ",
        "outputId": "08b72e78-50a5-4fab-d999-1bc6dc3a7a9a"
      },
      "execution_count": 19,
      "outputs": [
        {
          "output_type": "execute_result",
          "data": {
            "text/plain": [
              "['Rohit',\n",
              " 'Dhawan',\n",
              " 'Kohli',\n",
              " 'Rahane',\n",
              " 'Rayudu',\n",
              " 'Dhoni',\n",
              " 'Bumrah',\n",
              " 'Sham',\n",
              " 'Bhuvi',\n",
              " 'Kuldeep',\n",
              " 'Chahal']"
            ]
          },
          "metadata": {},
          "execution_count": 19
        }
      ]
    },
    {
      "cell_type": "code",
      "source": [
        "all_players.index('Dhoni')"
      ],
      "metadata": {
        "colab": {
          "base_uri": "https://localhost:8080/"
        },
        "id": "-BUNGDNKUvPE",
        "outputId": "abf73823-ad2e-4d37-e6b8-736e25d6413d"
      },
      "execution_count": 21,
      "outputs": [
        {
          "output_type": "execute_result",
          "data": {
            "text/plain": [
              "5"
            ]
          },
          "metadata": {},
          "execution_count": 21
        }
      ]
    },
    {
      "cell_type": "code",
      "source": [
        "all_players.reverse()\n",
        "all_players"
      ],
      "metadata": {
        "colab": {
          "base_uri": "https://localhost:8080/"
        },
        "id": "quj0EWH_U27u",
        "outputId": "f108ad3f-a539-4295-ced0-673b4c72a84e"
      },
      "execution_count": 22,
      "outputs": [
        {
          "output_type": "execute_result",
          "data": {
            "text/plain": [
              "['Chahal',\n",
              " 'Kuldeep',\n",
              " 'Bhuvi',\n",
              " 'Sham',\n",
              " 'Bumrah',\n",
              " 'Dhoni',\n",
              " 'Rayudu',\n",
              " 'Rahane',\n",
              " 'Kohli',\n",
              " 'Dhawan',\n",
              " 'Rohit']"
            ]
          },
          "metadata": {},
          "execution_count": 22
        }
      ]
    },
    {
      "cell_type": "code",
      "source": [],
      "metadata": {
        "id": "l7gRZM_OU9Fh"
      },
      "execution_count": null,
      "outputs": []
    },
    {
      "cell_type": "markdown",
      "source": [
        "tuples"
      ],
      "metadata": {
        "id": "PUilgCgyVRsa"
      }
    },
    {
      "cell_type": "code",
      "source": [
        "odiDebut = ('Kohli', 2008)\n",
        "odiDebut"
      ],
      "metadata": {
        "colab": {
          "base_uri": "https://localhost:8080/"
        },
        "id": "Y-zrKHwEVVay",
        "outputId": "655ee360-51eb-401f-c863-963c2a152a02"
      },
      "execution_count": 23,
      "outputs": [
        {
          "output_type": "execute_result",
          "data": {
            "text/plain": [
              "('Kohli', 2008)"
            ]
          },
          "metadata": {},
          "execution_count": 23
        }
      ]
    },
    {
      "cell_type": "code",
      "source": [
        "odiDebut[0]"
      ],
      "metadata": {
        "colab": {
          "base_uri": "https://localhost:8080/",
          "height": 36
        },
        "id": "T2fj3TboVbF7",
        "outputId": "f4623f8d-0c67-4fdd-f1f2-dab578b5092b"
      },
      "execution_count": 24,
      "outputs": [
        {
          "output_type": "execute_result",
          "data": {
            "text/plain": [
              "'Kohli'"
            ],
            "application/vnd.google.colaboratory.intrinsic+json": {
              "type": "string"
            }
          },
          "metadata": {},
          "execution_count": 24
        }
      ]
    },
    {
      "cell_type": "code",
      "source": [
        "players = tuple(all_players)\n",
        "players"
      ],
      "metadata": {
        "colab": {
          "base_uri": "https://localhost:8080/"
        },
        "id": "6sBUuAnfVeIl",
        "outputId": "8b161847-2e25-4354-aa1d-6dba2ee09565"
      },
      "execution_count": 25,
      "outputs": [
        {
          "output_type": "execute_result",
          "data": {
            "text/plain": [
              "('Chahal',\n",
              " 'Kuldeep',\n",
              " 'Bhuvi',\n",
              " 'Sham',\n",
              " 'Bumrah',\n",
              " 'Dhoni',\n",
              " 'Rayudu',\n",
              " 'Rahane',\n",
              " 'Kohli',\n",
              " 'Dhawan',\n",
              " 'Rohit')"
            ]
          },
          "metadata": {},
          "execution_count": 25
        }
      ]
    },
    {
      "cell_type": "markdown",
      "source": [
        "SETS"
      ],
      "metadata": {
        "id": "7OCteK_VVkCO"
      }
    },
    {
      "cell_type": "code",
      "source": [
        "wc2011 = {\"Dhoni\", \"Sehwag\", \"Tendulkar\", \"Gambhir\",\n",
        "\"Kohli\", \"Raina\", \"Yuvraj\", \"Yusuf\"}\n",
        "wc2015 = {\"Dhoni\", \"Dhawan\", \"Rohit\", \"Rahane\",\n",
        "\"Kohli\", \"Raina\", \"Rayudu\", \"Jadeja\"}"
      ],
      "metadata": {
        "id": "5HkHrO4FVhHq"
      },
      "execution_count": 27,
      "outputs": []
    },
    {
      "cell_type": "code",
      "source": [
        "#To find the list of all batsmen who played in either 2011 or 2015 world cup, we can take union of the above two sets."
      ],
      "metadata": {
        "id": "V35vJZz0V6sP"
      },
      "execution_count": null,
      "outputs": []
    },
    {
      "cell_type": "code",
      "source": [
        "wc2011.union(wc2015)"
      ],
      "metadata": {
        "colab": {
          "base_uri": "https://localhost:8080/"
        },
        "id": "i7gy3l_zVvE6",
        "outputId": "b72f5333-7afd-4bba-8a1c-3d972954bdaf"
      },
      "execution_count": 28,
      "outputs": [
        {
          "output_type": "execute_result",
          "data": {
            "text/plain": [
              "{'Dhawan',\n",
              " 'Dhoni',\n",
              " 'Gambhir',\n",
              " 'Jadeja',\n",
              " 'Kohli',\n",
              " 'Rahane',\n",
              " 'Raina',\n",
              " 'Rayudu',\n",
              " 'Rohit',\n",
              " 'Sehwag',\n",
              " 'Tendulkar',\n",
              " 'Yusuf',\n",
              " 'Yuvraj'}"
            ]
          },
          "metadata": {},
          "execution_count": 28
        }
      ]
    },
    {
      "cell_type": "code",
      "source": [
        "#To find the list of all batsmen who played for both 2011 and 2015 world cup, we can take intersection of these two sets wc2011 and wc2015.\n",
        "wc2011.intersection(wc2015)"
      ],
      "metadata": {
        "colab": {
          "base_uri": "https://localhost:8080/"
        },
        "id": "cdI58vb0V2zQ",
        "outputId": "4fc806a1-b220-46bf-e806-d5b7588329b6"
      },
      "execution_count": 29,
      "outputs": [
        {
          "output_type": "execute_result",
          "data": {
            "text/plain": [
              "{'Dhoni', 'Kohli', 'Raina'}"
            ]
          },
          "metadata": {},
          "execution_count": 29
        }
      ]
    },
    {
      "cell_type": "code",
      "source": [
        "#If we need to find the new batsmen who were not part of 2011 world cup and played in 2015 world cup, we take difference of wc2015 from wc2011.\n",
        "wc2015.difference( wc2011 )"
      ],
      "metadata": {
        "colab": {
          "base_uri": "https://localhost:8080/"
        },
        "id": "5IRoAMhNWPuR",
        "outputId": "b3d2ec14-52d3-4776-a084-0caf2f9f8604"
      },
      "execution_count": 30,
      "outputs": [
        {
          "output_type": "execute_result",
          "data": {
            "text/plain": [
              "{'Dhawan', 'Jadeja', 'Rahane', 'Rayudu', 'Rohit'}"
            ]
          },
          "metadata": {},
          "execution_count": 30
        }
      ]
    },
    {
      "cell_type": "markdown",
      "source": [
        "Dictionary"
      ],
      "metadata": {
        "id": "kuzJD1XdYTOs"
      }
    },
    {
      "cell_type": "code",
      "source": [
        "wcWinners = {1975: \"West Indies\",\n",
        "  1979: \"West Indies\",\n",
        "  1983: \"India\",\n",
        "  1987: \"Australia\",\n",
        "  1991: \"Pakistan\",\n",
        "  1996: \"Sri Lanka\",\n",
        "  1999: \"Australia\",\n",
        "  2003: \"Australia\",\n",
        "  2007: \"Australia\",\n",
        "  2011: \"India\"}"
      ],
      "metadata": {
        "id": "jPnpAGLQWY-1"
      },
      "execution_count": 32,
      "outputs": []
    },
    {
      "cell_type": "code",
      "source": [
        "wcWinners[1983]\n"
      ],
      "metadata": {
        "colab": {
          "base_uri": "https://localhost:8080/",
          "height": 36
        },
        "id": "qGi-tdveYkCj",
        "outputId": "da1724c5-7645-4fd7-b72a-0602485f6137"
      },
      "execution_count": 33,
      "outputs": [
        {
          "output_type": "execute_result",
          "data": {
            "text/plain": [
              "'India'"
            ],
            "application/vnd.google.colaboratory.intrinsic+json": {
              "type": "string"
            }
          },
          "metadata": {},
          "execution_count": 33
        }
      ]
    },
    {
      "cell_type": "code",
      "source": [
        "#For a list of all winning countries use the following code:\n",
        "wcWinners.values()"
      ],
      "metadata": {
        "colab": {
          "base_uri": "https://localhost:8080/"
        },
        "id": "zPYLpBWgYs-0",
        "outputId": "dd028a37-5899-450f-8f13-a86d1557610a"
      },
      "execution_count": 34,
      "outputs": [
        {
          "output_type": "execute_result",
          "data": {
            "text/plain": [
              "dict_values(['West Indies', 'West Indies', 'India', 'Australia', 'Pakistan', 'Sri Lanka', 'Australia', 'Australia', 'Australia', 'India'])"
            ]
          },
          "metadata": {},
          "execution_count": 34
        }
      ]
    },
    {
      "cell_type": "code",
      "source": [
        "set(wcWinners.values())"
      ],
      "metadata": {
        "colab": {
          "base_uri": "https://localhost:8080/"
        },
        "id": "9fIlp2jvY3sm",
        "outputId": "775fbfd6-80aa-4996-f104-0fea251bb4bd"
      },
      "execution_count": 35,
      "outputs": [
        {
          "output_type": "execute_result",
          "data": {
            "text/plain": [
              "{'Australia', 'India', 'Pakistan', 'Sri Lanka', 'West Indies'}"
            ]
          },
          "metadata": {},
          "execution_count": 35
        }
      ]
    },
    {
      "cell_type": "code",
      "source": [
        "#To adding a new key-value pair to the dictionary, use the following code:\n",
        "wcWinners[2015] = 'Australia'\n",
        "wcWinners"
      ],
      "metadata": {
        "colab": {
          "base_uri": "https://localhost:8080/"
        },
        "id": "sDX6l3QIY_sP",
        "outputId": "04cd3b91-bb54-4531-9546-909049c8903d"
      },
      "execution_count": 37,
      "outputs": [
        {
          "output_type": "execute_result",
          "data": {
            "text/plain": [
              "{1975: 'West Indies',\n",
              " 1979: 'West Indies',\n",
              " 1983: 'India',\n",
              " 1987: 'Australia',\n",
              " 1991: 'Pakistan',\n",
              " 1996: 'Sri Lanka',\n",
              " 1999: 'Australia',\n",
              " 2003: 'Australia',\n",
              " 2007: 'Australia',\n",
              " 2011: 'India',\n",
              " 2015: 'Australia'}"
            ]
          },
          "metadata": {},
          "execution_count": 37
        }
      ]
    },
    {
      "cell_type": "markdown",
      "source": [
        "NUMPY"
      ],
      "metadata": {
        "id": "9eVaCYZUdsUE"
      }
    },
    {
      "cell_type": "code",
      "source": [
        "import numpy as np"
      ],
      "metadata": {
        "id": "SP3kdUGkZFyw"
      },
      "execution_count": 38,
      "outputs": []
    },
    {
      "cell_type": "code",
      "source": [
        "a = np.array([1,2,3,4,5])"
      ],
      "metadata": {
        "id": "qlDa9LmydcJ7"
      },
      "execution_count": 39,
      "outputs": []
    },
    {
      "cell_type": "code",
      "source": [
        "type(a)"
      ],
      "metadata": {
        "colab": {
          "base_uri": "https://localhost:8080/"
        },
        "id": "m9U8xKRTdjq2",
        "outputId": "a2c645ba-594a-4b5f-8566-629f5cd60833"
      },
      "execution_count": 40,
      "outputs": [
        {
          "output_type": "execute_result",
          "data": {
            "text/plain": [
              "numpy.ndarray"
            ]
          },
          "metadata": {},
          "execution_count": 40
        }
      ]
    },
    {
      "cell_type": "code",
      "source": [
        "a.shape"
      ],
      "metadata": {
        "colab": {
          "base_uri": "https://localhost:8080/"
        },
        "id": "gf4hi_H7dlhL",
        "outputId": "d27dac5d-110e-43cd-a160-c485f417b829"
      },
      "execution_count": 41,
      "outputs": [
        {
          "output_type": "execute_result",
          "data": {
            "text/plain": [
              "(5,)"
            ]
          },
          "metadata": {},
          "execution_count": 41
        }
      ]
    },
    {
      "cell_type": "code",
      "source": [
        "a.size"
      ],
      "metadata": {
        "colab": {
          "base_uri": "https://localhost:8080/"
        },
        "id": "u_Kfj3tddpvV",
        "outputId": "e7863f25-9c90-402a-90ad-c80d47c48338"
      },
      "execution_count": 42,
      "outputs": [
        {
          "output_type": "execute_result",
          "data": {
            "text/plain": [
              "5"
            ]
          },
          "metadata": {},
          "execution_count": 42
        }
      ]
    },
    {
      "cell_type": "code",
      "source": [
        "b = np.array([[1,2,3,4],[4,5,6,7]])"
      ],
      "metadata": {
        "id": "Os_mMWiId8oz"
      },
      "execution_count": 43,
      "outputs": []
    },
    {
      "cell_type": "code",
      "source": [
        "type(b)"
      ],
      "metadata": {
        "colab": {
          "base_uri": "https://localhost:8080/"
        },
        "id": "K5edQ-WCeMvi",
        "outputId": "114a4db1-509d-4245-f8c2-696886f6e2cf"
      },
      "execution_count": 44,
      "outputs": [
        {
          "output_type": "execute_result",
          "data": {
            "text/plain": [
              "numpy.ndarray"
            ]
          },
          "metadata": {},
          "execution_count": 44
        }
      ]
    },
    {
      "cell_type": "code",
      "source": [
        "b.shape"
      ],
      "metadata": {
        "colab": {
          "base_uri": "https://localhost:8080/"
        },
        "id": "QYdgMvAceOWU",
        "outputId": "5dd90ddf-a90b-4744-d8e4-64bdcd50cdd7"
      },
      "execution_count": 45,
      "outputs": [
        {
          "output_type": "execute_result",
          "data": {
            "text/plain": [
              "(2, 4)"
            ]
          },
          "metadata": {},
          "execution_count": 45
        }
      ]
    },
    {
      "cell_type": "code",
      "source": [
        "b"
      ],
      "metadata": {
        "colab": {
          "base_uri": "https://localhost:8080/"
        },
        "id": "aSSFlcXjeQEb",
        "outputId": "cf3053ba-c04f-4152-ce2a-7acc8eadf213"
      },
      "execution_count": 46,
      "outputs": [
        {
          "output_type": "execute_result",
          "data": {
            "text/plain": [
              "array([[1, 2, 3, 4],\n",
              "       [4, 5, 6, 7]])"
            ]
          },
          "metadata": {},
          "execution_count": 46
        }
      ]
    },
    {
      "cell_type": "code",
      "source": [
        "b.size"
      ],
      "metadata": {
        "colab": {
          "base_uri": "https://localhost:8080/"
        },
        "id": "Tfh9-e9zeTJb",
        "outputId": "de044c42-014f-4448-dc9d-f6a285355e4a"
      },
      "execution_count": 47,
      "outputs": [
        {
          "output_type": "execute_result",
          "data": {
            "text/plain": [
              "8"
            ]
          },
          "metadata": {},
          "execution_count": 47
        }
      ]
    },
    {
      "cell_type": "code",
      "source": [
        "b[0]"
      ],
      "metadata": {
        "colab": {
          "base_uri": "https://localhost:8080/"
        },
        "id": "Cp7tHVBfee1i",
        "outputId": "76ca3e75-601b-4d80-ecd5-18919b007c97"
      },
      "execution_count": 48,
      "outputs": [
        {
          "output_type": "execute_result",
          "data": {
            "text/plain": [
              "array([1, 2, 3, 4])"
            ]
          },
          "metadata": {},
          "execution_count": 48
        }
      ]
    },
    {
      "cell_type": "code",
      "source": [
        "b[0][0]"
      ],
      "metadata": {
        "colab": {
          "base_uri": "https://localhost:8080/"
        },
        "id": "vWXbI-eKe80O",
        "outputId": "762ec36c-d98b-4ebc-8f98-1c338ae7e8a2"
      },
      "execution_count": 49,
      "outputs": [
        {
          "output_type": "execute_result",
          "data": {
            "text/plain": [
              "np.int64(1)"
            ]
          },
          "metadata": {},
          "execution_count": 49
        }
      ]
    },
    {
      "cell_type": "code",
      "source": [
        "b[1][2]"
      ],
      "metadata": {
        "colab": {
          "base_uri": "https://localhost:8080/"
        },
        "id": "H2haI03BfG9m",
        "outputId": "97f28a5d-8c16-4923-d1c0-d054d667df06"
      },
      "execution_count": 50,
      "outputs": [
        {
          "output_type": "execute_result",
          "data": {
            "text/plain": [
              "np.int64(6)"
            ]
          },
          "metadata": {},
          "execution_count": 50
        }
      ]
    },
    {
      "cell_type": "code",
      "source": [
        "b[0][3]"
      ],
      "metadata": {
        "colab": {
          "base_uri": "https://localhost:8080/"
        },
        "id": "Zy8mY9qMfLxF",
        "outputId": "1c75a015-7827-4621-bfdf-80664712ba30"
      },
      "execution_count": 51,
      "outputs": [
        {
          "output_type": "execute_result",
          "data": {
            "text/plain": [
              "np.int64(4)"
            ]
          },
          "metadata": {},
          "execution_count": 51
        }
      ]
    },
    {
      "cell_type": "code",
      "source": [
        "c = b.reshape(4,2)"
      ],
      "metadata": {
        "id": "b3ZhZWMTfP-U"
      },
      "execution_count": 52,
      "outputs": []
    },
    {
      "cell_type": "code",
      "source": [
        "c"
      ],
      "metadata": {
        "colab": {
          "base_uri": "https://localhost:8080/"
        },
        "id": "DeaoubOUfYxX",
        "outputId": "38a30917-6d7d-409d-ae7a-6a12435a62cd"
      },
      "execution_count": 53,
      "outputs": [
        {
          "output_type": "execute_result",
          "data": {
            "text/plain": [
              "array([[1, 2],\n",
              "       [3, 4],\n",
              "       [4, 5],\n",
              "       [6, 7]])"
            ]
          },
          "metadata": {},
          "execution_count": 53
        }
      ]
    },
    {
      "cell_type": "code",
      "source": [
        "print(a.sum())\n",
        "print(a)"
      ],
      "metadata": {
        "colab": {
          "base_uri": "https://localhost:8080/"
        },
        "id": "Y6PmNJJWfZ6U",
        "outputId": "cc8bcd03-95e2-40f6-b393-1094fc49501c"
      },
      "execution_count": 55,
      "outputs": [
        {
          "output_type": "stream",
          "name": "stdout",
          "text": [
            "15\n",
            "[1 2 3 4 5]\n"
          ]
        }
      ]
    },
    {
      "cell_type": "code",
      "source": [
        "a.prod() #multiplication"
      ],
      "metadata": {
        "colab": {
          "base_uri": "https://localhost:8080/"
        },
        "id": "RcpWD_9Jf6Kw",
        "outputId": "7179a058-a739-4343-f297-dddbdd10a6a3"
      },
      "execution_count": 56,
      "outputs": [
        {
          "output_type": "execute_result",
          "data": {
            "text/plain": [
              "np.int64(120)"
            ]
          },
          "metadata": {},
          "execution_count": 56
        }
      ]
    },
    {
      "cell_type": "code",
      "source": [
        "b"
      ],
      "metadata": {
        "colab": {
          "base_uri": "https://localhost:8080/"
        },
        "id": "6yGyPcOhgBUB",
        "outputId": "f73be03f-e496-4b06-df63-a54adcaa2c51"
      },
      "execution_count": 57,
      "outputs": [
        {
          "output_type": "execute_result",
          "data": {
            "text/plain": [
              "array([[1, 2, 3, 4],\n",
              "       [4, 5, 6, 7]])"
            ]
          },
          "metadata": {},
          "execution_count": 57
        }
      ]
    },
    {
      "cell_type": "code",
      "source": [
        "b.sum(axis=0) #its going to take the sum row wise"
      ],
      "metadata": {
        "colab": {
          "base_uri": "https://localhost:8080/"
        },
        "id": "D-SnPrTbgMm3",
        "outputId": "b2bf869b-eacd-4c52-d89a-f3220ca05054"
      },
      "execution_count": 58,
      "outputs": [
        {
          "output_type": "execute_result",
          "data": {
            "text/plain": [
              "array([ 5,  7,  9, 11])"
            ]
          },
          "metadata": {},
          "execution_count": 58
        }
      ]
    },
    {
      "cell_type": "code",
      "source": [
        "b.sum(axis=1) #its going to take the sum column wise i.e column wise addition"
      ],
      "metadata": {
        "colab": {
          "base_uri": "https://localhost:8080/"
        },
        "id": "HWMgTWzAgRYS",
        "outputId": "f042f352-5f9b-40a8-8a6a-fe60a6b5ec49"
      },
      "execution_count": 59,
      "outputs": [
        {
          "output_type": "execute_result",
          "data": {
            "text/plain": [
              "array([10, 22])"
            ]
          },
          "metadata": {},
          "execution_count": 59
        }
      ]
    },
    {
      "cell_type": "code",
      "source": [
        "# Dot product of two arrays\n",
        "# Note: For dot product, the inner dimensions of the arrays must match.\n",
        "# Reshape 'b' to match the dimensions for dot product with 'a'\n",
        "b_reshaped = b.reshape(4, 2)\n",
        "# Since 'a' is 1D (5,), we can't directly take the dot product with b_reshaped (4,2).\n",
        "# Let's create a new array for demonstration purposes that can be used for dot product with 'a'.\n",
        "# We'll create a 2D array where the number of columns matches the size of 'a'.\n",
        "c = np.array([[1, 2, 3, 4, 5], [6, 7, 8, 9, 10]])\n",
        "dot_product_result = a.dot(c.T) # Using the transpose of c for compatible dimensions\n",
        "print(\"Dot product of a and c.T:\", dot_product_result)\n",
        "\n",
        "# Element-wise multiplication\n",
        "element_wise_multiplication = a * a\n",
        "print(\"Element-wise multiplication of a with itself:\", element_wise_multiplication)\n",
        "\n",
        "# Element-wise multiplication of array 'b' with itself\n",
        "element_wise_multiplication_b = b * b\n",
        "print(\"Element-wise multiplication of b with itself:\", element_wise_multiplication_b)"
      ],
      "metadata": {
        "colab": {
          "base_uri": "https://localhost:8080/"
        },
        "id": "fWbh8HHzgkd2",
        "outputId": "64a1c61d-c8fc-4d55-b852-8754d0f9b3dc"
      },
      "execution_count": 60,
      "outputs": [
        {
          "output_type": "stream",
          "name": "stdout",
          "text": [
            "Dot product of a and c.T: [ 55 130]\n",
            "Element-wise multiplication of a with itself: [ 1  4  9 16 25]\n",
            "Element-wise multiplication of b with itself: [[ 1  4  9 16]\n",
            " [16 25 36 49]]\n"
          ]
        }
      ]
    }
  ]
}